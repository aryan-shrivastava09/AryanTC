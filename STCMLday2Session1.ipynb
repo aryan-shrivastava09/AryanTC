{
  "nbformat": 4,
  "nbformat_minor": 0,
  "metadata": {
    "colab": {
      "name": "STCMLday2Session1.ipynb",
      "provenance": [],
      "collapsed_sections": [],
      "authorship_tag": "ABX9TyNReXpbyRtFKw9HPtvTPxZh",
      "include_colab_link": true
    },
    "kernelspec": {
      "name": "python3",
      "display_name": "Python 3"
    }
  },
  "cells": [
    {
      "cell_type": "markdown",
      "metadata": {
        "id": "view-in-github",
        "colab_type": "text"
      },
      "source": [
        "<a href=\"https://colab.research.google.com/github/aryan-shrivastava09/AryanTC/blob/master/STCMLday2Session1.ipynb\" target=\"_parent\"><img src=\"https://colab.research.google.com/assets/colab-badge.svg\" alt=\"Open In Colab\"/></a>"
      ]
    },
    {
      "cell_type": "code",
      "metadata": {
        "id": "4vmpT1SZpOWq"
      },
      "source": [
        "from collab.google import drive\r\n",
        "drive.mount('/content/drive')"
      ],
      "execution_count": null,
      "outputs": []
    },
    {
      "cell_type": "code",
      "metadata": {
        "id": "7HbjCNecqlC-"
      },
      "source": [
        "import pandas as pd\r\n",
        "path = '/content/drive/My Drive/Training/NIT Jaipur/data/'\r\n",
        "#customers\r\n",
        "customers = pd.read_csv(path + \"Customers.csv\")\r\n",
        "#products\r\n",
        "products = pd.read_csv(path + \"Product.csv\")\r\n",
        "#interactions\r\n",
        "interaction = pd.read_csv(path + \"Interaction.csv\")"
      ],
      "execution_count": null,
      "outputs": []
    },
    {
      "cell_type": "code",
      "metadata": {
        "id": "4SOlFKZardxE"
      },
      "source": [
        "customers.head()\r\n",
        "products.head()\r\n",
        "interaction.head()"
      ],
      "execution_count": null,
      "outputs": []
    },
    {
      "cell_type": "markdown",
      "metadata": {
        "id": "GDWTsdIqryx0"
      },
      "source": [
        "How to handle missing value"
      ]
    },
    {
      "cell_type": "code",
      "metadata": {
        "id": "uihmP_LErl4k"
      },
      "source": [
        "pd.isnull() #function used to check whether there are missing values\r\n",
        "pd.notnull() #Companion of pd.isnull()"
      ],
      "execution_count": null,
      "outputs": []
    },
    {
      "cell_type": "code",
      "metadata": {
        "id": "QaQQrmWDr_qZ"
      },
      "source": [
        "import pandas as pd\r\n",
        "cust_prod == pd.merge(customers, products, on=\"CustID\")\r\n",
        "cust_prod\r\n",
        "#By default 'inner' join"
      ],
      "execution_count": null,
      "outputs": []
    },
    {
      "cell_type": "code",
      "metadata": {
        "id": "NhhA1FSDs5RW"
      },
      "source": [
        "#ALL from left dataframe\r\n",
        "import pandas as pd\r\n",
        "cust1 = pd.DataFrame({\r\n",
        "    'CustID' : [1,2,3,4,5],\r\n",
        "    'Age' : [23,24,25,26,27]\r\n",
        "})\r\n",
        "prod1 = pd.DataFrame({\r\n",
        "    'CustID' : [2,3,4,5,6,7],\r\n",
        "    'Prods' : [1,2,3,4,5,1]\r\n",
        "})"
      ],
      "execution_count": 4,
      "outputs": []
    },
    {
      "cell_type": "code",
      "metadata": {
        "colab": {
          "base_uri": "https://localhost:8080/",
          "height": 206
        },
        "id": "nidqHz4vunvH",
        "outputId": "7ec10894-e132-40f6-dde8-612fc626dcd1"
      },
      "source": [
        "c1p1_left = pd.merge(cust1, prod1, on='CustID', how='left')\r\n",
        "c1p1_left"
      ],
      "execution_count": 5,
      "outputs": [
        {
          "output_type": "execute_result",
          "data": {
            "text/html": [
              "<div>\n",
              "<style scoped>\n",
              "    .dataframe tbody tr th:only-of-type {\n",
              "        vertical-align: middle;\n",
              "    }\n",
              "\n",
              "    .dataframe tbody tr th {\n",
              "        vertical-align: top;\n",
              "    }\n",
              "\n",
              "    .dataframe thead th {\n",
              "        text-align: right;\n",
              "    }\n",
              "</style>\n",
              "<table border=\"1\" class=\"dataframe\">\n",
              "  <thead>\n",
              "    <tr style=\"text-align: right;\">\n",
              "      <th></th>\n",
              "      <th>CustID</th>\n",
              "      <th>Age</th>\n",
              "      <th>Prods</th>\n",
              "    </tr>\n",
              "  </thead>\n",
              "  <tbody>\n",
              "    <tr>\n",
              "      <th>0</th>\n",
              "      <td>1</td>\n",
              "      <td>23</td>\n",
              "      <td>NaN</td>\n",
              "    </tr>\n",
              "    <tr>\n",
              "      <th>1</th>\n",
              "      <td>2</td>\n",
              "      <td>24</td>\n",
              "      <td>1.0</td>\n",
              "    </tr>\n",
              "    <tr>\n",
              "      <th>2</th>\n",
              "      <td>3</td>\n",
              "      <td>25</td>\n",
              "      <td>2.0</td>\n",
              "    </tr>\n",
              "    <tr>\n",
              "      <th>3</th>\n",
              "      <td>4</td>\n",
              "      <td>26</td>\n",
              "      <td>3.0</td>\n",
              "    </tr>\n",
              "    <tr>\n",
              "      <th>4</th>\n",
              "      <td>5</td>\n",
              "      <td>27</td>\n",
              "      <td>4.0</td>\n",
              "    </tr>\n",
              "  </tbody>\n",
              "</table>\n",
              "</div>"
            ],
            "text/plain": [
              "   CustID  Age  Prods\n",
              "0       1   23    NaN\n",
              "1       2   24    1.0\n",
              "2       3   25    2.0\n",
              "3       4   26    3.0\n",
              "4       5   27    4.0"
            ]
          },
          "metadata": {
            "tags": []
          },
          "execution_count": 5
        }
      ]
    },
    {
      "cell_type": "code",
      "metadata": {
        "colab": {
          "base_uri": "https://localhost:8080/",
          "height": 238
        },
        "id": "dQDzI90wuzgq",
        "outputId": "526b13ee-8d53-4a59-d0f7-4e7dd5949c3d"
      },
      "source": [
        "c1p1_right = pd.merge(cust1, prod1, on='CustID', how='right')\r\n",
        "c1p1_right"
      ],
      "execution_count": 6,
      "outputs": [
        {
          "output_type": "execute_result",
          "data": {
            "text/html": [
              "<div>\n",
              "<style scoped>\n",
              "    .dataframe tbody tr th:only-of-type {\n",
              "        vertical-align: middle;\n",
              "    }\n",
              "\n",
              "    .dataframe tbody tr th {\n",
              "        vertical-align: top;\n",
              "    }\n",
              "\n",
              "    .dataframe thead th {\n",
              "        text-align: right;\n",
              "    }\n",
              "</style>\n",
              "<table border=\"1\" class=\"dataframe\">\n",
              "  <thead>\n",
              "    <tr style=\"text-align: right;\">\n",
              "      <th></th>\n",
              "      <th>CustID</th>\n",
              "      <th>Age</th>\n",
              "      <th>Prods</th>\n",
              "    </tr>\n",
              "  </thead>\n",
              "  <tbody>\n",
              "    <tr>\n",
              "      <th>0</th>\n",
              "      <td>2</td>\n",
              "      <td>24.0</td>\n",
              "      <td>1</td>\n",
              "    </tr>\n",
              "    <tr>\n",
              "      <th>1</th>\n",
              "      <td>3</td>\n",
              "      <td>25.0</td>\n",
              "      <td>2</td>\n",
              "    </tr>\n",
              "    <tr>\n",
              "      <th>2</th>\n",
              "      <td>4</td>\n",
              "      <td>26.0</td>\n",
              "      <td>3</td>\n",
              "    </tr>\n",
              "    <tr>\n",
              "      <th>3</th>\n",
              "      <td>5</td>\n",
              "      <td>27.0</td>\n",
              "      <td>4</td>\n",
              "    </tr>\n",
              "    <tr>\n",
              "      <th>4</th>\n",
              "      <td>6</td>\n",
              "      <td>NaN</td>\n",
              "      <td>5</td>\n",
              "    </tr>\n",
              "    <tr>\n",
              "      <th>5</th>\n",
              "      <td>7</td>\n",
              "      <td>NaN</td>\n",
              "      <td>1</td>\n",
              "    </tr>\n",
              "  </tbody>\n",
              "</table>\n",
              "</div>"
            ],
            "text/plain": [
              "   CustID   Age  Prods\n",
              "0       2  24.0      1\n",
              "1       3  25.0      2\n",
              "2       4  26.0      3\n",
              "3       5  27.0      4\n",
              "4       6   NaN      5\n",
              "5       7   NaN      1"
            ]
          },
          "metadata": {
            "tags": []
          },
          "execution_count": 6
        }
      ]
    },
    {
      "cell_type": "code",
      "metadata": {
        "id": "WwJMOSX4vGgl"
      },
      "source": [
        "c1p1_outer = pd.merge(cust1, prod1, on='CustID', how='outer' )"
      ],
      "execution_count": null,
      "outputs": []
    },
    {
      "cell_type": "code",
      "metadata": {
        "id": "s7vsJ-UfvofU"
      },
      "source": [
        "c1p1_inner = pd.merge(cust1, prod1, left_on= 'CustID', right_on='CustID', how= 'inner')"
      ],
      "execution_count": null,
      "outputs": []
    },
    {
      "cell_type": "code",
      "metadata": {
        "id": "CuOJM7Jjv5-K"
      },
      "source": [
        "# Summarisation\r\n",
        "path = 'content/drive/My drive/Training/NIT Jaipur/data/'\r\n",
        "# read CSV file\r\n",
        "bank = pd.read_csv(path+\"bank.csv\")\r\n",
        "# Show few rows\r\n",
        "bank.head()"
      ],
      "execution_count": null,
      "outputs": []
    },
    {
      "cell_type": "code",
      "metadata": {
        "id": "slg6NSWsxaCt"
      },
      "source": [
        "bank.describe()"
      ],
      "execution_count": null,
      "outputs": []
    },
    {
      "cell_type": "code",
      "metadata": {
        "id": "a0Xv2wpXxhr7"
      },
      "source": [
        "bank.age.describe()"
      ],
      "execution_count": null,
      "outputs": []
    },
    {
      "cell_type": "code",
      "metadata": {
        "id": "b06St2DcyMMV"
      },
      "source": [
        "bank.contact.unique()"
      ],
      "execution_count": null,
      "outputs": []
    },
    {
      "cell_type": "code",
      "metadata": {
        "id": "07nUDFawye1e"
      },
      "source": [
        "bank.contact.value_counts()"
      ],
      "execution_count": null,
      "outputs": []
    },
    {
      "cell_type": "code",
      "metadata": {
        "id": "jkbY_sxKy9Tq"
      },
      "source": [
        "bank.contact.value_counts()/len(bank.contact)\r\n",
        "# For percentage distribution"
      ],
      "execution_count": null,
      "outputs": []
    },
    {
      "cell_type": "code",
      "metadata": {
        "id": "jbjIt6yWzTZr"
      },
      "source": [
        "# Create a column\r\n",
        "import numpy as np\r\n",
        "bank['label'] = np.where(bank,y==\"yes\",1,0)\r\n",
        "bank['label'].value_counts()"
      ],
      "execution_count": null,
      "outputs": []
    },
    {
      "cell_type": "code",
      "metadata": {
        "id": "_9mp-gjQ0BEs"
      },
      "source": [
        "bank.groupby(['marital']).label.agg([len,sum])"
      ],
      "execution_count": null,
      "outputs": []
    },
    {
      "cell_type": "code",
      "metadata": {
        "colab": {
          "base_uri": "https://localhost:8080/",
          "height": 279
        },
        "id": "jQqMOUIg1sTX",
        "outputId": "94559fc0-ba14-4639-9e7c-243769a7596c"
      },
      "source": [
        "# Basic Plotting \r\n",
        "import numpy as np\r\n",
        "numb = 50+10*np.random.randn(500)\r\n",
        "#plot histogram\r\n",
        "import matplotlib.pyplot as plt\r\n",
        "fig, ax = plt.subplots()\r\n",
        "ax.hist(numb, bins=15, cumulative=False)\r\n",
        "ax.set_xlabel('Values')\r\n",
        "ax.set_ylabel('Frequency')\r\n",
        "plt.show()"
      ],
      "execution_count": 9,
      "outputs": [
        {
          "output_type": "display_data",
          "data": {
            "image/png": "[encoded data removed]",
            "text/plain": [
              "<Figure size 432x288 with 1 Axes>"
            ]
          },
          "metadata": {
            "tags": [],
            "needs_background": "light"
          }
        }
      ]
    },
    {
      "cell_type": "code",
      "metadata": {
        "id": "F_E1kWnn4ROg"
      },
      "source": [
        "#Aggregate counts\r\n",
        "job_summary = bank.groupby('job')['job'].count()\r\n",
        "#Bar chart\r\n",
        "import matplotlib.pyplot as plt\r\n",
        "plt.style.use('ggplot')\r\n",
        "plt.bar(job_summary.index,job_summary, color= 'green')\r\n",
        "plt.xlabel('Job Type')\r\n",
        "plt.ylabel('Customer Counts')\r\n",
        "plt.title(\"Customers by job type\")\r\n",
        "plt.show()\r\n",
        "plt.close()"
      ],
      "execution_count": null,
      "outputs": []
    },
    {
      "cell_type": "code",
      "metadata": {
        "id": "egqiI5605azd"
      },
      "source": [
        ""
      ],
      "execution_count": null,
      "outputs": []
    }
  ]
}